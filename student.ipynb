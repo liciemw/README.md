Final Project Submission
Please fill out:

Student name: Alice Mumbi
Student pace: full time
Scheduled project review date/time:
Instructor name: Winnie
Blog post URL: 
